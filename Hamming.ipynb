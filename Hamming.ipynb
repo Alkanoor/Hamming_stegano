{
 "cells": [
  {
   "cell_type": "markdown",
   "metadata": {},
   "source": [
    "<h2><center> Code de Hamming et stéganographie </center></h2>"
   ]
  },
  {
   "cell_type": "code",
   "execution_count": null,
   "metadata": {
    "collapsed": true
   },
   "outputs": [],
   "source": []
  },
  {
   "cell_type": "markdown",
   "metadata": {},
   "source": [
    "**But**\n",
    "\n",
    "Obtenir pour un mot d'information de taille k, un mot de code de taille n>k qui comporte une part de redondance"
   ]
  },
  {
   "cell_type": "code",
   "execution_count": null,
   "metadata": {
    "collapsed": true
   },
   "outputs": [],
   "source": []
  },
  {
   "cell_type": "markdown",
   "metadata": {},
   "source": [
    "**Code correcteur linéaire défini par [n,k,$\\delta$] :**\n",
    "\n",
    "-sous espace vectoriel d'un espace vectoriel de dimension finie sur un corps fini (ici $F_2 = \\{0,1\\}$) <br/>\n",
    "-mots de code de taille n<br/>\n",
    "-mots d'information (donc message) de taille k <br/>\n",
    "-n>k\n",
    "\n",
    "**Codage :**\n",
    "\n",
    "Matrice génératrice G (de taille n lignes k colonnes)<br/>\n",
    "Mot d'information m.<br/>\n",
    "Mot de code c.<br/>\n",
    "$c = Gm$<br/>\n",
    "\n",
    "Matrice génératrice systématique $G = \\begin{pmatrix}I\\\\P\\end{pmatrix}$ où $P$ est la matrice de parité du code (dépend du code).\n",
    "\n",
    "**Erreur :**\n",
    "\n",
    "Le mot de code c subit une erreur e (taille n) dans le canal de communication : $y = c+e$\n",
    "\n",
    "\n",
    "**Décodage :**\n",
    "\n",
    "Matrice de contrôle H (de taille n-k lignes n colonnes) telle que HxG = 0<br/>\n",
    "Mot de code avec erreur y.<br/>\n",
    "Syndrome s.<br/>\n",
    "$s = Hy$<br/>\n",
    "\n",
    "Matrice de contrôle systématique $H = \\left(P||I\\right)$ où $P$ est la matrice de parité du code précédente.\n",
    "\n",
    "Si $s=0$, alors $y$ est sans erreur, et donc on peut retrouver le mot d'information en prenant les k premiers éléments de $y$.<br/>\n",
    "Sinon $s$ contient les bits correspondant aux erreurs.\n",
    "\n",
    "Exemple:\n"
   ]
  },
  {
   "cell_type": "code",
   "execution_count": null,
   "metadata": {
    "collapsed": true
   },
   "outputs": [],
   "source": []
  },
  {
   "cell_type": "code",
   "execution_count": 13,
   "metadata": {
    "collapsed": false
   },
   "outputs": [
    {
     "name": "stdout",
     "output_type": "stream",
     "text": [
      "Matrice génératrice :\n",
      "[[1 0 0 0]\n",
      " [0 1 0 0]\n",
      " [0 0 1 0]\n",
      " [0 0 0 1]\n",
      " [1 1 0 1]\n",
      " [1 0 1 1]\n",
      " [0 1 1 1]]\n",
      "\n",
      "Matrice de contrôle :\n",
      "[[1 1 0 1 1 0 0]\n",
      " [1 0 1 1 0 1 0]\n",
      " [0 1 1 1 0 0 1]]\n",
      "\n",
      "Message :\n",
      "[1, 0, 0, 1]\n",
      "Mot de code correspondant :\n",
      "[1 0 0 1 0 0 1]\n",
      "\n",
      "Sans erreur, le syndrome est nul :\n",
      "[0 0 0]\n",
      "Mot de code avec une erreur :\n",
      "[1 0 1 1 0 0 1]\n",
      "Syndrome obtenu :\n",
      "[0 1 1]\n",
      "Le syndrome correspond à la 3ème colonne de H donc l'erreur est en position 3, c'est bien le cas\n",
      "On retrouve notre message en prenant les 4 premiers bits du y corrigé\n"
     ]
    }
   ],
   "source": [
    "import numpy as np\n",
    "\n",
    "def log2(n):\n",
    "    c = 0\n",
    "    while n>1:\n",
    "        n //= 2\n",
    "        c += 1\n",
    "    return c\n",
    "\n",
    "def binarize_array(a):\n",
    "    for i in range(len(a)):\n",
    "        a[i] = a[i]%2\n",
    "    return a\n",
    "\n",
    "def binarize_matrix(m):\n",
    "    for i in range(len(m)):\n",
    "        for j in range(len(m[i])):\n",
    "            m[(i,j)] = m[(i,j)]%2\n",
    "    return m\n",
    "\n",
    "def create_hamming(k):\n",
    "    n = 2**k-1\n",
    "    m = n-k\n",
    "\n",
    "    G = np.diag(np.ones(m, dtype=np.int))\n",
    "    H = np.diag(np.ones(n-m, dtype=np.int))\n",
    "    P = np.zeros([m,n-m], dtype=np.int)\n",
    "    o = 0\n",
    "    for i in range(1,n+1):\n",
    "        if 2**(log2(i)) != i:\n",
    "            for j in range(k):\n",
    "                P[(o,j)] = ((i&(1<<j))>>j)\n",
    "            o += 1\n",
    "    return np.concatenate((G,P.T),axis=0),np.concatenate((P.T,H),axis=1)\n",
    "\n",
    "G,H = create_hamming(3)\n",
    "print(u\"Matrice génératrice :\")\n",
    "print(G)\n",
    "print(\"\")\n",
    "print(u\"Matrice de contrôle :\")\n",
    "print(H)\n",
    "print(\"\")\n",
    "\n",
    "message = [1,0,0,1]\n",
    "print(\"Message :\")\n",
    "print(message)\n",
    "print(\"Mot de code correspondant :\")\n",
    "c = binarize_array(G.dot(message))\n",
    "print(c)\n",
    "print(\"\")\n",
    "print(\"Sans erreur, le syndrome est nul :\")\n",
    "y = c\n",
    "s = binarize_array(H.dot(y))\n",
    "print(s)\n",
    "y[2] = 1-y[2]\n",
    "print(\"Mot de code avec une erreur :\")\n",
    "print(y)\n",
    "s = binarize_array(H.dot(y))\n",
    "print(\"Syndrome obtenu :\")\n",
    "print(s)\n",
    "print(u\"Le syndrome correspond à la 3ème colonne de H donc l'erreur est en position 3, c'est bien le cas\")\n",
    "print(u\"On retrouve notre message en prenant les 4 premiers bits du y corrigé\")"
   ]
  },
  {
   "cell_type": "code",
   "execution_count": null,
   "metadata": {
    "collapsed": true
   },
   "outputs": [],
   "source": []
  },
  {
   "cell_type": "markdown",
   "metadata": {},
   "source": [
    "Notre but est de trouver le vecteur d'erreur $e$ qui vérifie :\n",
    "\n",
    "- $c = x+e$\n",
    "- $s = m = Hc$\n",
    "\n",
    "où $x$ est le médium (bloc de taille n), et $m$ est le message à cacher.<br/>\n",
    "C'est à dire en combinant les expressions $e$ tel que $He = m-Hx$ ce qui se fait facilement.\n",
    "\n",
    "Exemple :"
   ]
  },
  {
   "cell_type": "code",
   "execution_count": 23,
   "metadata": {
    "collapsed": false
   },
   "outputs": [
    {
     "name": "stdout",
     "output_type": "stream",
     "text": [
      "Message à cacher :\n",
      "[1, 0, 1]\n",
      "\n",
      "Bloc de couverture :\n",
      "[1, 0, 1, 1, 0, 0, 1]\n",
      "\n",
      "m-Hx = \n",
      "[1 1 0]\n",
      "\n",
      "Cela correspond à la ème colonne de H :\n",
      "[[1 1 0 1 1 0 0]\n",
      " [1 0 1 1 0 1 0]\n",
      " [0 1 1 1 0 0 1]]\n"
     ]
    }
   ],
   "source": [
    "m = [1,0,1]\n",
    "print(\"Message à cacher :\")\n",
    "print(m)\n",
    "print(\"\")\n",
    "\n",
    "x = [1,0,1,1,0,0,1]\n",
    "print(\"Bloc de couverture :\")\n",
    "print(x)\n",
    "print(\"\")\n",
    "\n",
    "print(\"m-Hx = \")\n",
    "print(binarize_array(m-H.dot(x)))\n",
    "print(\"\")\n",
    "\n",
    "print(u\"Cela correspond à la 1ère colonne de H :\")\n",
    "print(H)\n",
    "print(\"\")\n",
    "\n",
    "print(u\"Donc en inversant le premier bit du support on obtient quelque chose qui va se déchiffrer en notre message secret :\")\n",
    "y = x\n",
    "y[0] = 1-y[0]\n",
    "print(u\"Support modifié y : \")\n",
    "print(y)\n",
    "print(\"Hy : \")\n",
    "print()"
   ]
  },
  {
   "cell_type": "code",
   "execution_count": null,
   "metadata": {
    "collapsed": true
   },
   "outputs": [],
   "source": []
  }
 ],
 "metadata": {
  "kernelspec": {
   "display_name": "Python 2",
   "language": "python",
   "name": "python2"
  },
  "language_info": {
   "codemirror_mode": {
    "name": "ipython",
    "version": 2
   },
   "file_extension": ".py",
   "mimetype": "text/x-python",
   "name": "python",
   "nbconvert_exporter": "python",
   "pygments_lexer": "ipython2",
   "version": "2.7.11"
  }
 },
 "nbformat": 4,
 "nbformat_minor": 0
}
